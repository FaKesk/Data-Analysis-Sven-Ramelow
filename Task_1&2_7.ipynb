{
 "cells": [
  {
   "cell_type": "code",
   "execution_count": 2,
   "id": "a5978918",
   "metadata": {},
   "outputs": [
    {
     "name": "stdout",
     "output_type": "stream",
     "text": [
      "Class=4, n=137 (6.625%)\n",
      "Class=3, n=461 (22.292%)\n",
      "Class=2, n=547 (26.451%)\n",
      "Class=1, n=681 (32.930%)\n",
      "Class=0, n=242 (11.702%)\n"
     ]
    }
   ],
   "source": [
    "import pandas as pd\n",
    "import numpy as np\n",
    "import matplotlib.pyplot as plt\n",
    "from scipy import interpolate\n",
    "from sklearn.preprocessing import LabelEncoder\n",
    "from collections import Counter\n",
    "import imblearn\n",
    "from imblearn.over_sampling import SMOTE\n",
    "from imblearn.over_sampling import RandomOverSampler\n",
    "df=pd.read_csv(\"Clear_Path_300ms_delay01_subt2.csv\",sep=\"\t\")\n",
    "c = 3e+8;\n",
    "#computing the frequencies\n",
    "freq_array = np.array((c*1e+9)/df[\"Wavelength(nm)\"])\n",
    "df[\"Frequency (s^(-1))\"] = freq_array\n",
    "new_freq_array = np.round(freq_array / 1e+13, decimals = 0)\n",
    "#labelling the frequency values by creating classes \n",
    "y = LabelEncoder().fit_transform(new_freq_array)\n",
    "X = np.reshape(freq_array, (2068, 1))\n",
    "#creating a dictionary for sampling_strategy\n",
    "counter = Counter(y)\n",
    "for k,v in counter.items():\n",
    " per = v / len(y) * 100\n",
    " print('Class=%d, n=%d (%.3f%%)' % (k, v, per))"
   ]
  },
  {
   "cell_type": "code",
   "execution_count": 4,
   "id": "4abbbadb",
   "metadata": {},
   "outputs": [],
   "source": [
    "values=np.empty(5); values.fill(700)\n",
    "strategy = dict(list(enumerate(values)))\n",
    "oversample = SMOTE(sampling_strategy = \"all\", random_state = 50)\n",
    "# fit and apply the transform\n",
    "X_over, y_over = oversample.fit_resample(X, y)\n",
    "a = X_over.flatten()\n",
    "b = np.sort(a)"
   ]
  },
  {
   "cell_type": "code",
   "execution_count": 9,
   "id": "dbb8fc28",
   "metadata": {},
   "outputs": [
    {
     "data": {
      "text/plain": [
       "array([-1.78      , -3.77142703, -0.30286587, ...,  1.7011026 ,\n",
       "       23.48608668, 58.62      ])"
      ]
     },
     "execution_count": 9,
     "metadata": {},
     "output_type": "execute_result"
    }
   ],
   "source": [
    "eq_freq_array = np.linspace(b[0], b[3404], 6204)\n",
    "interp = interpolate.interp1d(df[\"Frequency (s^(-1))\"],df[\"Intensity\"],kind=\"cubic\")\n",
    "new_intensity = interp(eq_freq_array)\n",
    "new_intensity"
   ]
  },
  {
   "cell_type": "code",
   "execution_count": 20,
   "id": "9e98a298",
   "metadata": {},
   "outputs": [],
   "source": [
    "interp = interpolate.interp1d(df[\"Frequency (s^(-1))\"],df[\"Intensity\"],kind=\"cubic\")\n",
    "new_intensity = interp(eq_freq_array)\n",
    "data = {\"Frequency\" : eq_freq_array, \"Intensity\" : new_intensity}\n",
    "df_new = pd.DataFrame(data)"
   ]
  },
  {
   "cell_type": "code",
   "execution_count": 22,
   "id": "59d230ca",
   "metadata": {},
   "outputs": [
    {
     "data": {
      "text/html": [
       "<div>\n",
       "<style scoped>\n",
       "    .dataframe tbody tr th:only-of-type {\n",
       "        vertical-align: middle;\n",
       "    }\n",
       "\n",
       "    .dataframe tbody tr th {\n",
       "        vertical-align: top;\n",
       "    }\n",
       "\n",
       "    .dataframe thead th {\n",
       "        text-align: right;\n",
       "    }\n",
       "</style>\n",
       "<table border=\"1\" class=\"dataframe\">\n",
       "  <thead>\n",
       "    <tr style=\"text-align: right;\">\n",
       "      <th></th>\n",
       "      <th>Frequency</th>\n",
       "      <th>Intensity</th>\n",
       "      <th>dispersion_phase</th>\n",
       "    </tr>\n",
       "  </thead>\n",
       "  <tbody>\n",
       "    <tr>\n",
       "      <th>0</th>\n",
       "      <td>3.520482e+14</td>\n",
       "      <td>-1.780000</td>\n",
       "      <td>-0.000000</td>\n",
       "    </tr>\n",
       "    <tr>\n",
       "      <th>1</th>\n",
       "      <td>3.520541e+14</td>\n",
       "      <td>-3.771427</td>\n",
       "      <td>-2.268495</td>\n",
       "    </tr>\n",
       "    <tr>\n",
       "      <th>2</th>\n",
       "      <td>3.520599e+14</td>\n",
       "      <td>-0.302866</td>\n",
       "      <td>1.743027</td>\n",
       "    </tr>\n",
       "    <tr>\n",
       "      <th>3</th>\n",
       "      <td>3.520657e+14</td>\n",
       "      <td>2.465708</td>\n",
       "      <td>2.886793</td>\n",
       "    </tr>\n",
       "    <tr>\n",
       "      <th>4</th>\n",
       "      <td>3.520716e+14</td>\n",
       "      <td>-1.625363</td>\n",
       "      <td>0.612903</td>\n",
       "    </tr>\n",
       "    <tr>\n",
       "      <th>...</th>\n",
       "      <td>...</td>\n",
       "      <td>...</td>\n",
       "      <td>...</td>\n",
       "    </tr>\n",
       "    <tr>\n",
       "      <th>6199</th>\n",
       "      <td>3.882392e+14</td>\n",
       "      <td>-12.436839</td>\n",
       "      <td>-1.064411</td>\n",
       "    </tr>\n",
       "    <tr>\n",
       "      <th>6200</th>\n",
       "      <td>3.882450e+14</td>\n",
       "      <td>-9.388643</td>\n",
       "      <td>-0.612903</td>\n",
       "    </tr>\n",
       "    <tr>\n",
       "      <th>6201</th>\n",
       "      <td>3.882509e+14</td>\n",
       "      <td>1.701103</td>\n",
       "      <td>-2.886793</td>\n",
       "    </tr>\n",
       "    <tr>\n",
       "      <th>6202</th>\n",
       "      <td>3.882567e+14</td>\n",
       "      <td>23.486087</td>\n",
       "      <td>-1.743027</td>\n",
       "    </tr>\n",
       "    <tr>\n",
       "      <th>6203</th>\n",
       "      <td>3.882626e+14</td>\n",
       "      <td>58.620000</td>\n",
       "      <td>2.268495</td>\n",
       "    </tr>\n",
       "  </tbody>\n",
       "</table>\n",
       "<p>6204 rows × 3 columns</p>\n",
       "</div>"
      ],
      "text/plain": [
       "         Frequency  Intensity  dispersion_phase\n",
       "0     3.520482e+14  -1.780000         -0.000000\n",
       "1     3.520541e+14  -3.771427         -2.268495\n",
       "2     3.520599e+14  -0.302866          1.743027\n",
       "3     3.520657e+14   2.465708          2.886793\n",
       "4     3.520716e+14  -1.625363          0.612903\n",
       "...            ...        ...               ...\n",
       "6199  3.882392e+14 -12.436839         -1.064411\n",
       "6200  3.882450e+14  -9.388643         -0.612903\n",
       "6201  3.882509e+14   1.701103         -2.886793\n",
       "6202  3.882567e+14  23.486087         -1.743027\n",
       "6203  3.882626e+14  58.620000          2.268495\n",
       "\n",
       "[6204 rows x 3 columns]"
      ]
     },
     "execution_count": 22,
     "metadata": {},
     "output_type": "execute_result"
    }
   ],
   "source": [
    "from scipy.fft import fft, ifft\n",
    "Y=ifft(np.array(df_new[\"Intensity\"]))\n",
    "#calculating the phase shift caused by dispersion\n",
    "dispersion_phase=np.angle(Y,deg=False)\n",
    "df_new[\"dispersion_phase\"]=dispersion_phase\n",
    "df_new"
   ]
  }
 ],
 "metadata": {
  "kernelspec": {
   "display_name": "Python 3",
   "language": "python",
   "name": "python3"
  },
  "language_info": {
   "codemirror_mode": {
    "name": "ipython",
    "version": 3
   },
   "file_extension": ".py",
   "mimetype": "text/x-python",
   "name": "python",
   "nbconvert_exporter": "python",
   "pygments_lexer": "ipython3",
   "version": "3.8.8"
  }
 },
 "nbformat": 4,
 "nbformat_minor": 5
}
